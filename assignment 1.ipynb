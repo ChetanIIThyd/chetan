{
 "cells": [
  {
   "cell_type": "code",
   "execution_count": 4,
   "id": "75c0efed-aaf1-4526-9e83-3d2bb695312b",
   "metadata": {},
   "outputs": [
    {
     "name": "stdout",
     "output_type": "stream",
     "text": [
      "x: 5\n",
      "y, 10\n"
     ]
    }
   ],
   "source": [
    "# Topic: python basics variable\n",
    "\n",
    "\n",
    "# question no 1\n",
    "\n",
    "x=10\n",
    "y=5\n",
    "\n",
    "x,y=y,x #swapping\n",
    "\n",
    "print(\"x:\",x)\n",
    "print(\"y,\",y)"
   ]
  },
  {
   "cell_type": "code",
   "execution_count": 3,
   "id": "60631311-8bd6-4f7d-9444-c4f0eed3b426",
   "metadata": {},
   "outputs": [
    {
     "name": "stdin",
     "output_type": "stream",
     "text": [
      "enter the value of length of rect: 5.5\n",
      "enter the value of breadth of rect: 5.5\n"
     ]
    },
    {
     "name": "stdout",
     "output_type": "stream",
     "text": [
      "The area of rectangle = 30.25\n"
     ]
    }
   ],
   "source": [
    "# question no 2\n",
    "\n",
    "l=float(input(\"enter the value of length of rect:\"))\n",
    "b=float(input(\"enter the value of breadth of rect:\"))\n",
    "\n",
    "A=l*b\n",
    "\n",
    "print(\"The area of rectangle =\",A)"
   ]
  },
  {
   "cell_type": "code",
   "execution_count": 7,
   "id": "68fd79b7-74de-4fc3-accb-f51586838412",
   "metadata": {},
   "outputs": [
    {
     "name": "stdin",
     "output_type": "stream",
     "text": [
      "enter the string full stack data science pro\n"
     ]
    },
    {
     "name": "stdout",
     "output_type": "stream",
     "text": [
      "length of string is: 27\n"
     ]
    }
   ],
   "source": [
    "# Topic: string based question\n",
    "\n",
    "#question on 1\n",
    "\n",
    "x=input(\"enter the string\")\n",
    "\n",
    "y=len(x)\n",
    "\n",
    "print(\"length of string is:\",y)"
   ]
  },
  {
   "cell_type": "code",
   "execution_count": 8,
   "id": "d7fadc02-82bf-495f-a4e9-59be205912f5",
   "metadata": {},
   "outputs": [
    {
     "name": "stdin",
     "output_type": "stream",
     "text": [
      "enter the string i am chetan\n"
     ]
    },
    {
     "name": "stdout",
     "output_type": "stream",
     "text": [
      "reversed string: natehc ma i\n"
     ]
    }
   ],
   "source": [
    "#question no 3\n",
    "\n",
    "x=input(\"enter the string\")\n",
    "\n",
    "y=x[-1: :-1]  # Reverse the string using string slicing\n",
    "\n",
    "print(\"reversed string:\",y)"
   ]
  },
  {
   "cell_type": "code",
   "execution_count": null,
   "id": "e9e85ab0-a462-4dd8-9b18-d987cca10876",
   "metadata": {},
   "outputs": [],
   "source": [
    "#quetion no 5\n",
    "\n",
    "string=input(\"enter the string\")\n",
    "\n",
    "modified_string=string.replace(\" \",\"\")\n",
    "\n",
    "print(\"modified string without spaces:\",modified_string)"
   ]
  },
  {
   "cell_type": "code",
   "execution_count": null,
   "id": "56d2ff9e-521d-4602-a4b6-abc97cfedff0",
   "metadata": {},
   "outputs": [],
   "source": []
  }
 ],
 "metadata": {
  "kernelspec": {
   "display_name": "Python 3 (ipykernel)",
   "language": "python",
   "name": "python3"
  },
  "language_info": {
   "codemirror_mode": {
    "name": "ipython",
    "version": 3
   },
   "file_extension": ".py",
   "mimetype": "text/x-python",
   "name": "python",
   "nbconvert_exporter": "python",
   "pygments_lexer": "ipython3",
   "version": "3.10.8"
  }
 },
 "nbformat": 4,
 "nbformat_minor": 5
}
